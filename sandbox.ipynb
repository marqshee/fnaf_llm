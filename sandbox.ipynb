{
 "cells": [
  {
   "cell_type": "code",
   "execution_count": null,
   "metadata": {},
   "outputs": [],
   "source": [
    "%pip install langchain openai python-dotenv"
   ]
  },
  {
   "cell_type": "code",
   "execution_count": null,
   "metadata": {},
   "outputs": [],
   "source": [
    "import os\n",
    "from dotenv import find_dotenv, load_dotenv"
   ]
  },
  {
   "cell_type": "code",
   "execution_count": null,
   "metadata": {},
   "outputs": [],
   "source": [
    "load_dotenv(find_dotenv(), override=True)\n",
    "os.environ['OPENAI_API_KEY']"
   ]
  },
  {
   "cell_type": "code",
   "execution_count": null,
   "metadata": {},
   "outputs": [],
   "source": [
    "# Create an LLM (Large Language Model)\n",
    "from langchain.llms import OpenAI"
   ]
  },
  {
   "cell_type": "code",
   "execution_count": null,
   "metadata": {},
   "outputs": [],
   "source": [
    "llm = OpenAI(temperature=1) # how closely we stick to the prompt (0-1)"
   ]
  },
  {
   "cell_type": "code",
   "execution_count": null,
   "metadata": {},
   "outputs": [],
   "source": [
    "response = llm('what is the fastest car in the work?')"
   ]
  },
  {
   "cell_type": "code",
   "execution_count": null,
   "metadata": {},
   "outputs": [],
   "source": [
    "print(response)"
   ]
  },
  {
   "cell_type": "code",
   "execution_count": null,
   "metadata": {},
   "outputs": [],
   "source": [
    "from langchain.prompts import PromptTemplate"
   ]
  },
  {
   "cell_type": "code",
   "execution_count": null,
   "metadata": {},
   "outputs": [],
   "source": [
    "template = PromptTemplate(\n",
    "    input_variables=['summary_block'],\n",
    "    template='Summarize the following block of text: {summary_block}')"
   ]
  },
  {
   "cell_type": "code",
   "execution_count": null,
   "metadata": {},
   "outputs": [],
   "source": [
    "from langchain.chains import LLMChain"
   ]
  },
  {
   "cell_type": "code",
   "execution_count": null,
   "metadata": {},
   "outputs": [],
   "source": [
    "chain = LLMChain(llm=llm, prompt=template)"
   ]
  },
  {
   "cell_type": "code",
   "execution_count": null,
   "metadata": {},
   "outputs": [],
   "source": [
    "fnaf_hippo_script = '''“My friend, you have met a terrible, terrible demise. But, uh, you know, I-I don’t feel too bad about it. After all, if- if it weren’t from me, it would have just been from someone else, ya know? I guess what I’m trying to say is life, life goes on. W- well, from- for everyone else, life goes on. Not- not for you, you’re, you're dead. But that’s neither here nor there. It reminds me of one summer day in the park, I was having just a delightful picnic with my good friend Orville. And I said to him, I said, “Orville, I-I have a story,” And he said to me, “What’s the significance of the story?” I said to him “Orville, not every story has to have significance, ya know? Sometimes uhh, you know, sometimes a story is just a story. You try to read into every little thing and find meaning in everything anyone says, you’ll just drive yourself crazy. Had a friend do it once - wasn’t pretty - we talked about it for years. And-and not only that, but, you’ll likely end up believin' something you shouldn’t believe or thinkin' something you shouldn’t think o-o-or assumin' something you shouldn’t assume, ya know? \"Sometimes,\" I said, \"a-a-a story is- is just a story, so just be quiet for one second of your life and eat your sandwich, okay?\" Of course, it was only then I realized I made sandwiches and, poor Orville was having such difficulty eating it! Elephants have those clumsy hands, ya know? A-Actually, I-I suppose that’s the problem; they don’t have hands at all, do they? They've, they’re all feet! A-an I-I couldn’t imagine someone asking me to eat a sandwich with my feet. Now, if I recall correctly there was a bakery nearby. I- I said to him “Orville, l-let me go get you some rye bread.” Now, I-I’m unsure if elephants enjoy rye bread, but I assure you that Orville does. Now this was on a Tuesday which was good because rye bread was always fresh on Tuesday. They made sourdough on Monday and threw it out Wednesday. O-or rather they sold it at a discount for people wantin' to feed the ducks and then, probably at the end of the day finally they threw it all out, I-I don't recall. I do remember a man who would being his son to the bakery every Wednesday, and-and go feed the ducks. He would buy all of the sourdough bread. Of course, you know, you’re not supposed to feed the ducks sourdough bread at all. It swells up in their stomach and then they all die. At, ah, at least, at least that’s what I’ve heard. Ya know, I never saw any ducks die myself, but I did notice a substantial decrease in duck population over the course of a few years. I just never thought to stop the man and tell him he was killing the ducks by feeding them sourdough bread! And if you want my opinion on the matter, heh, and I told Orville this as well: if you wanna feed ducks or birds or any kind for that matter, especially buy seed. I mean, when you think about it, breads of any sort don’t occur in nature. They don’t grow on trees or spring up from the bushes! I don’t think birds know what to do with bread. What was I saying? Oh, oh yes yes. So I bought Orville some rye bread. What a fine day it was.”\n",
    "\n",
    "“Huh, it seems that you have met your end. Ugh, what a pity. Y'know I-I dont feel too bad about it, though. After all, if it weren’t me, it would’ve just been one of the others, I guess. I’m honestly just glad to be out of those air ducts. Y’know it’s-it’s not easy for a hippopotamus to fit up there, and not easy to get down either. I’m not as young as I used to be, as you can see. I used to be able to do all the sorts of things. Y-you’re young, you’re vibrant, you have that sort of pep in your step. Heh, reminds me of a conversation that I was havin’ with one of my good friends Orville. We were havin’ a nice picnic one day. I believe it was summer or perhaps it was…was it the fall? Yes, yes. It was the fall because the leaves had turned already. But I said to Orville I says, ‘Orville I have a story to tell you,’ and Orville looked at me–y’know, kinda odd–and, and said, ‘What’s it about?’ I said to him, ‘not every story has to be about something Orville. Sometimes a person just wants to talk. Why does everything have to be a story?’ I said to him. He just looked at me. He said, ‘Well y-you said you had a story.’ Y’know he was quite right. I did in fact. I told him I had a story. I suppose if a person just wants to talk then it’s best to not announce that you’re telling a story. Tellin’ a story does come with its own pressures and expectations I-I suppose. After all, if you’re just talking to a friend then there’s no more expectations than if you were talkin’ into the wind. Words by themselves aren’t expected to carry–uh, aren’t expected to stick, but if, y’know, if you announce that you’re tellin’ a story well then there’d better be a point to it all, y’know? No one wants to sit and listen to someone ramble on and on and on with absolutely no end in sight. So, y’know it’s-it’s good to be mindful of that when you tell someone that you’re about to tell a story, that you have something to say. Tellin’ someone that you’re gonna tell them a story is tantamount to askin’ them to stop what they’re doin’ and–and pay attention. You’re basically sayin’, ‘hey, hey buddy, stop everything, stop what you’re thinking. I have a solution to everything.’ And well I didn’t really have a story to tell. In-in hindsight I-I probably just misspoke when I said that I had a story. I think it would’ve just been better to tell Orville that I wanted to tell him something, rather than tell him that I had a story. But, y’know, even then it mighta put too much importance on the whole thing. Either way, it was quite a nice day. I remember–I remember that we were drinking tea. daddy\n",
    "\n",
    "“Well, it seems that your journey has ended. Very sorry about that. It-it was always going to end this way, of course. If it weren’t by me, it would’ve just been by some other, y’know, terrible thing, just–you could not imagine how terrible it would be-just-I get scared thinkin’ about it. Glad it’s not me. Reminds me of a-of a time I was speaking to my good friend Orville. We were–we were sitting on a park bench watching the pigeons. I was on the left; he was on the r–wait, was I on the right? Or left? Anyways, it doesn’t matter. We were sitting on there watching the pigeons. And uh, -II said to Orville, ‘Friend, those birds are frozen, and he kinda looked at me like I’d lost my mind, but I reminded him that it was winter, y’know, and often birds will sit in a tree until they freeze then-then they y’know they sort of fall to the ground ‘til the sun warms up a-and they can y’know move around again. So I said to Orville, ‘you might as well save those breadcrumbs until the birds thaw, ‘cause they can’t very well enjoy them in the condition they’re in.’ To which he asked what I meant, and asking what condition the crumbs should be in before he threw them to the birds–assuming that I meant the birds couldn’t enjoy the breadcrumbs in the condition that the crumbs were in, when in fact I had meant the birds could not enjoy them in the condition that the birds were in, considering that the birds were frozen. Y’know so he took a moment and then threw his last handful onto the ground. I said to him, ‘Orville, why did you just throw the breadcrumbs to the birds when I just told you they’re frozen?’ To which he responded, ‘the breadcrumbs are not frozen.’ Again, misunderstanding my words. I didn’t mean to say that the breadcrumbs were frozen, when I said, ‘I told you they’re frozen’, I’d been referring to the birds. Y’know, in hindsight what I should’ve said was–and this would make perfect sense, ‘Why did you throw the breadcrumbs to the birds when the birds are frozen?’ He misunderstood upon my correction, statin’ that he didn’t know what else to do with the breadcrumbs, and that perhaps, y’know, when the birds thawed, they’d still be able to eat the crumbs. So I-I said to Orville, I said and this is what I said to him, I said, ‘Orville, the birds may be dead.”\n",
    "\n",
    "“Huh, it seems that you have met a-a horrible demise, my friend. But, uh, y’know, these things happen, an-and life, life goes on. Not for you, obviously, uh, you’re dead, but uh it reminds me of a time I was-I was havin’ a conversation with my friend Orville. We were–uh, where were we? We were by the–wh-the-the river, we were sitting by the river and watching the fish leap over the falls and uh, I–I said to Orville, ‘Y’know sometimes I feel like a fish leaping over and over again. Always trying to get somewhere. Oh, I don’t know where only to find myself in the jaws of a beast.’ He ‘course looked at me surprised, y’know? ‘Have you been in the jaws of a beast, friend?’ To which I said, ‘no, of course not, Orville.’ I said, ‘No, no, no I-I simply meant that life can seem like a relentless endeavor. Overcome meaningless obstacles only to meet an equally meaningless fate, regardless of your efforts, regardless of the obstacles you’ve passed.’ And, uh, Orville, he stood and proceeded to drape me with a picnic cloth. To which I-I-I asked him, I said, ‘friend, what–what are you doing?’ He looked at me–very concerned–really. ‘I feel like you’ve gotten too much sun.’ Indeed, huh, indeed I had. He proceeded to pour me a glass of just ice cold lemonade, ooh, you ever mix it with iced tea? Do a like–little half lemonade half–ooh, it’s so–you try it some–well you can’t, because you’re dead, but–anyways. So, you may be asking yourself, how did I go from sitting by the falls drinking lemonade to being wedged in the air duct, not only with Orville, but with an entire assortment of fruity-colored friends? Well, there’s uh, there’s really no good answer to that, but perhaps I met a demise of my own at some point and this is my afterlife or my dream–whatever it might mean I honestly don’t know. Or, maybe it doesn’t mean anything at all. Maybe it doesn’t mean anything at all.”\n",
    "'''"
   ]
  },
  {
   "cell_type": "code",
   "execution_count": null,
   "metadata": {},
   "outputs": [],
   "source": [
    "fnaf_hippo_script"
   ]
  },
  {
   "cell_type": "code",
   "execution_count": null,
   "metadata": {},
   "outputs": [],
   "source": [
    "response = chain.run(fnaf_hippo_script)"
   ]
  },
  {
   "cell_type": "code",
   "execution_count": null,
   "metadata": {},
   "outputs": [],
   "source": [
    "print(response)"
   ]
  }
 ],
 "metadata": {
  "kernelspec": {
   "display_name": ".venv-langchain",
   "language": "python",
   "name": ".venv-langchain"
  },
  "language_info": {
   "codemirror_mode": {
    "name": "ipython",
    "version": 3
   },
   "file_extension": ".py",
   "mimetype": "text/x-python",
   "name": "python",
   "nbconvert_exporter": "python",
   "pygments_lexer": "ipython3",
   "version": "3.11.4"
  },
  "orig_nbformat": 4
 },
 "nbformat": 4,
 "nbformat_minor": 2
}
